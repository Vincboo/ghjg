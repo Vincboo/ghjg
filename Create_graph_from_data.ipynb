{
  "nbformat": 4,
  "nbformat_minor": 0,
  "metadata": {
    "colab": {
      "provenance": [],
      "authorship_tag": "ABX9TyMrvz1+jeyOdnS203PRcztj",
      "include_colab_link": true
    },
    "kernelspec": {
      "name": "python3",
      "display_name": "Python 3"
    },
    "language_info": {
      "name": "python"
    }
  },
  "cells": [
    {
      "cell_type": "markdown",
      "metadata": {
        "id": "view-in-github",
        "colab_type": "text"
      },
      "source": [
        "<a href=\"https://colab.research.google.com/github/Vincboo/ghjg/blob/main/Create_graph_from_data.ipynb\" target=\"_parent\"><img src=\"https://colab.research.google.com/assets/colab-badge.svg\" alt=\"Open In Colab\"/></a>"
      ]
    },
    {
      "cell_type": "markdown",
      "source": [
        "# Summary of taxi trips taken in January 2017"
      ],
      "metadata": {
        "id": "aAfthynr6mJb"
      }
    },
    {
      "cell_type": "code",
      "source": [
        "import pandas as pd\n",
        "\n",
        "from bokeh.plotting import figure, output_file, show\n",
        "\n",
        "from bokeh.models import ColumnDataSource\n",
        "\n",
        "\n",
        "output_file('taxidata.html')\n",
        "\n",
        "df = pd.read_csv('/home/ec2-user/yellow_tripdata_2017-01.csv')\n",
        "\n",
        "sample = df.sample (50)\n",
        "\n",
        "source = ColumnDataSource(sample)\n",
        "\n",
        "p=figure()\n",
        "\n",
        "p.circle(x='passenger_count', y='total_amount', source=source, size=10, color='green')\n",
        "\n",
        "p.title.text = 'Taxi rides'\n",
        "\n",
        "p.xaxis.axis_label = \"Passengers\"\n",
        "\n",
        "p.yaxis.axis_label = \"Amount paid\"\n",
        "\n",
        "show(p)"
      ],
      "metadata": {
        "id": "SYUwbyeT6iSL"
      },
      "execution_count": null,
      "outputs": []
    }
  ]
}